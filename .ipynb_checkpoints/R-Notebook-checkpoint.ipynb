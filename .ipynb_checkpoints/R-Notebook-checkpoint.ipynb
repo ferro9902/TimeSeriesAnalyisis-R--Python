{
 "cells": [
  {
   "cell_type": "raw",
   "id": "ca144519",
   "metadata": {},
   "source": [
    "---\n",
    "title: \"Time Series Analysis and Forecasting Project\"\n",
    "author: \"Feroldi Francesco\"\n",
    "---"
   ]
  },
  {
   "cell_type": "markdown",
   "id": "5301f33d",
   "metadata": {},
   "source": [
    "# assumptions\n",
    "\n",
    "This project is created to analyze the behaviour of a network of electricity consumers as a whole to understand the effect of heterogeneous variables on the consumption profile of the network.\n",
    "To do so we will work under the assumptions that:\n",
    "\n",
    "1) except for the first few months where clients where joining the network, the data is representative of the consumption of the whole network;\n",
    "2) clients have no consumption outside of what is reported in the dataset;\n",
    "3) missing values are due to communication issues between the smart meter and the operations center rather than due to no consumption from the client;\n",
    "4) the trend identified through yearly seasonal decomposition is due to the variation in the consumption behaviour of clients (acquisition of greener technology such as solar panels, LED light bulbs, better water heaters) rather than the weather conditions;\n",
    "\n",
    "# STEP 1: IMPORT AND ORGANIZE DATA FROM FS"
   ]
  },
  {
   "cell_type": "code",
   "execution_count": 1,
   "id": "4c815f87",
   "metadata": {
    "tags": [
     "remove_cell"
    ],
    "vscode": {
     "languageId": "r"
    }
   },
   "outputs": [
    {
     "data": {
      "text/html": [
       "'C'"
      ],
      "text/latex": [
       "'C'"
      ],
      "text/markdown": [
       "'C'"
      ],
      "text/plain": [
       "[1] \"C\""
      ]
     },
     "metadata": {},
     "output_type": "display_data"
    },
    {
     "name": "stderr",
     "output_type": "stream",
     "text": [
      "\n",
      "Caricamento pacchetto: 'dplyr'\n",
      "\n",
      "\n",
      "I seguenti oggetti sono mascherati da 'package:stats':\n",
      "\n",
      "    filter, lag\n",
      "\n",
      "\n",
      "I seguenti oggetti sono mascherati da 'package:base':\n",
      "\n",
      "    intersect, setdiff, setequal, union\n",
      "\n",
      "\n",
      "\n",
      "Caricamento pacchetto: 'lubridate'\n",
      "\n",
      "\n",
      "I seguenti oggetti sono mascherati da 'package:base':\n",
      "\n",
      "    date, intersect, setdiff, union\n",
      "\n",
      "\n"
     ]
    }
   ],
   "source": [
    "Sys.setlocale(\"LC_TIME\", \"C\")\n",
    "# packages to install\n",
    "# install.packages(\"performanceEstimation\")\n",
    "# install.packages(\"fpp3\")\n",
    "# install.packages(\"knitr\")\n",
    "# install.packages(\"vars\")\n",
    "\n",
    "# Load libraries\n",
    "library(dplyr)\n",
    "library(lubridate)\n",
    "library(ggplot2)\n",
    "\n",
    "# data sources\n",
    "daily_dataset <- \".\\\\archive\\\\daily_dataset.csv\"\n",
    "informations_households <- \".\\\\archive\\\\informations_households.csv\"\n",
    "uk_bank_holidays <- \".\\\\archive\\\\uk_bank_holidays.csv\"\n",
    "weather_daily_darksky <- \".\\\\archive\\\\weather_daily_darksky.csv\"\n",
    "\n",
    "# import the csv file\n",
    "daily_dataset <- read.csv(daily_dataset)\n",
    "informations_households <- read.csv(informations_households)\n",
    "uk_bank_holidays <- read.csv(uk_bank_holidays)\n",
    "weather_daily_darksky <- read.csv(weather_daily_darksky)\n",
    "\n",
    "# flag UK holiday days and add DOW and DOY columns, wile filtering for duplicate values\n",
    "daily_dataset.augmented <- daily_dataset %>%\n",
    "  mutate(\n",
    "    isUkHoliday = as.numeric(day %in% uk_bank_holidays$Bank.holidays),\n",
    "    day = as.Date(day, format = \"%Y-%m-%d\"),\n",
    "    dayOfWeek = wday(day, week_start=1),\n",
    "    dayOfYear = as.numeric(strftime(day, format = \"%j\")),\n",
    "    consumption = energy_sum\n",
    "  )\n",
    "\n",
    "# add sunlight hours column to weather_daily_darksky\n",
    "weather_daily_darksky <- weather_daily_darksky %>%\n",
    "  mutate(\n",
    "    sunlightHours = difftime(sunsetTime, sunriseTime, units = \"hours\"),\n",
    "    weather_condition = icon\n",
    "  )\n",
    "\n",
    "# Convert weather time column to date\n",
    "weather_daily_darksky$day <- as.Date(weather_daily_darksky$time)\n",
    "weather_daily_darksky <- weather_daily_darksky[!duplicated(weather_daily_darksky$day), ]\n",
    "\n",
    "# Merge datasets and select only useful columns\n",
    "daily_dataset.merged <- daily_dataset.augmented %>%\n",
    "  inner_join(informations_households, by = \"LCLid\") %>%\n",
    "  inner_join(weather_daily_darksky, by = c(\"day\" = \"day\")) %>%\n",
    "  dplyr::select(\n",
    "    LCLid,\n",
    "    day,\n",
    "    consumption,\n",
    "    isUkHoliday,\n",
    "    dayOfWeek,\n",
    "    dayOfYear,\n",
    "    stdorToU,\n",
    "    weather_condition,\n",
    "    cloudCover,\n",
    "    windBearing,\n",
    "    windSpeed,\n",
    "    pressure,\n",
    "    visibility,\n",
    "    humidity,\n",
    "    precipType,\n",
    "    uvIndex,\n",
    "    sunlightHours,\n",
    "    temperatureMin,\n",
    "    temperatureMax\n",
    "  )"
   ]
  },
  {
   "cell_type": "markdown",
   "id": "4ac01f64",
   "metadata": {},
   "source": [
    "# STEP 2: DATA EXPLORATION, DATA CLEANING AND DATA TRANSFORMATION"
   ]
  },
  {
   "cell_type": "code",
   "execution_count": 2,
   "id": "52f08847",
   "metadata": {
    "fig.cap": "Daily Dataset density distribution",
    "message": false,
    "tags": [
     "remove_input"
    ],
    "vscode": {
     "languageId": "r"
    },
    "warning": false
   },
   "outputs": [
    {
     "data": {
      "image/png": "[encoded data removed]",
      "text/plain": [
       "plot without title"
      ]
     },
     "metadata": {
      "image/png": {
       "height": 420,
       "width": 420
      }
     },
     "output_type": "display_data"
    }
   ],
   "source": [
    "library(ggplot2)\n",
    "\n",
    "freq_table <- table(daily_dataset$day)\n",
    "freq_data <- as.data.frame(table(daily_dataset$day))\n",
    "freq_data$day <- as.Date(names(freq_table))\n",
    "\n",
    "threshold <- 0.75 * max(freq_data$Freq)\n",
    "\n",
    "ggplot(freq_data, aes(x = day, y = Freq)) +\n",
    "  geom_line() +\n",
    "  geom_hline(yintercept = threshold, linetype = \"dashed\", color = \"red\") +\n",
    "  labs(title = \"Daily Dataset Frequency Plot\", x = \"Day\", y = \"Frequency\") +\n",
    "  theme_minimal()"
   ]
  },
  {
   "cell_type": "code",
   "execution_count": 3,
   "id": "d53b2f46",
   "metadata": {
    "lines_to_next_cell": 0,
    "tags": [
     "remove_cell"
    ],
    "vscode": {
     "languageId": "r"
    }
   },
   "outputs": [],
   "source": [
    "# filtering values whose\n",
    "daily_dataset.filtered <- daily_dataset.merged[daily_dataset.merged$day %in% freq_data$day[freq_data$Freq >= threshold], ]\n",
    "\n",
    "unfiltered_data_points.mln <- round(nrow(daily_dataset.merged) / 1000000, 1)\n",
    "filtered_data_points.mln <- round(nrow(daily_dataset.filtered) / 1000000, 1)"
   ]
  },
  {
   "cell_type": "markdown",
   "id": "fbcfa856",
   "metadata": {},
   "source": [
    "The filtering process reduced the overall number of data points from `r unfiltered_data_points.mln`mln to `r filtered_data_points.mln`mln ."
   ]
  },
  {
   "cell_type": "code",
   "execution_count": 4,
   "id": "5b311e4e",
   "metadata": {
    "lines_to_next_cell": 0,
    "tags": [
     "remove_cell"
    ],
    "vscode": {
     "languageId": "r"
    }
   },
   "outputs": [
    {
     "data": {
      "text/plain": [
       "    LCLid                day              consumption       isUkHoliday     \n",
       " Length:3202962     Min.   :2012-06-22   Min.   :  0.000   Min.   :0.00000  \n",
       " Class :character   1st Qu.:2012-12-01   1st Qu.:  4.682   1st Qu.:0.00000  \n",
       " Mode  :character   Median :2013-04-26   Median :  7.832   Median :0.00000  \n",
       "                    Mean   :2013-04-27   Mean   : 10.146   Mean   :0.02267  \n",
       "                    3rd Qu.:2013-09-24   3rd Qu.: 12.588   3rd Qu.:0.00000  \n",
       "                    Max.   :2014-02-28   Max.   :332.556   Max.   :1.00000  \n",
       "                                         NA's   :30                         \n",
       "   dayOfWeek       dayOfYear       stdorToU         weather_condition \n",
       " Min.   :1.000   Min.   :  1.0   Length:3202962     Length:3202962    \n",
       " 1st Qu.:2.000   1st Qu.: 92.0   Class :character   Class :character  \n",
       " Median :4.000   Median :211.0   Mode  :character   Mode  :character  \n",
       " Mean   :3.991   Mean   :194.8                                        \n",
       " 3rd Qu.:6.000   3rd Qu.:290.0                                        \n",
       " Max.   :7.000   Max.   :366.0                                        \n",
       "                                                                      \n",
       "   cloudCover     windBearing      windSpeed        pressure     \n",
       " Min.   :0.020   Min.   :  0.0   Min.   :0.200   Min.   : 979.2  \n",
       " 1st Qu.:0.350   1st Qu.:131.0   1st Qu.:2.400   1st Qu.:1006.7  \n",
       " Median :0.470   Median :217.0   Median :3.450   Median :1013.4  \n",
       " Mean   :0.481   Mean   :196.2   Mean   :3.598   Mean   :1012.8  \n",
       " 3rd Qu.:0.610   3rd Qu.:251.0   3rd Qu.:4.560   3rd Qu.:1019.8  \n",
       " Max.   :1.000   Max.   :359.0   Max.   :9.960   Max.   :1038.7  \n",
       " NA's   :5099                                                    \n",
       "   visibility       humidity       precipType           uvIndex     \n",
       " Min.   : 1.48   Min.   :0.4300   Length:3202962     Min.   :0.000  \n",
       " 1st Qu.:10.53   1st Qu.:0.7100   Class :character   1st Qu.:1.000  \n",
       " Median :11.99   Median :0.7900   Mode  :character   Median :2.000  \n",
       " Mean   :11.30   Mean   :0.7812                      Mean   :2.525  \n",
       " 3rd Qu.:12.83   3rd Qu.:0.8600                      3rd Qu.:4.000  \n",
       " Max.   :15.34   Max.   :0.9800                      Max.   :7.000  \n",
       "                                                     NA's   :5099   \n",
       " sunlightHours     temperatureMin   temperatureMax \n",
       " Length:3202962    Min.   :-3.860   Min.   :-0.06  \n",
       " Class :difftime   1st Qu.: 3.470   1st Qu.: 9.22  \n",
       " Mode  :numeric    Median : 7.570   Median :13.11  \n",
       "                   Mean   : 7.844   Mean   :14.07  \n",
       "                   3rd Qu.:12.160   3rd Qu.:18.84  \n",
       "                   Max.   :20.540   Max.   :32.40  \n",
       "                                                   "
      ]
     },
     "metadata": {},
     "output_type": "display_data"
    }
   ],
   "source": [
    "# identifying missing values\n",
    "\n",
    "# summary(daily_dataset.filtered)\n",
    "\n",
    "consumption_missing_values <- sum(is.na(daily_dataset.filtered$consumption))\n",
    "cloudCover_missing_values <- sum(is.na(daily_dataset.filtered$cloudCover))\n",
    "uvIndex_missing_values <- sum(is.na(daily_dataset.filtered$uvIndex))\n",
    "\n",
    "cc_uv_missing_values.dates <- unique(daily_dataset.filtered[is.na(daily_dataset.filtered$cloudCover) & is.na(daily_dataset.filtered$uvIndex), ]$day) # nolint: line_length_linter.\n",
    "consumption_missing_values.dates.num <- length(unique(daily_dataset.filtered[is.na(daily_dataset.filtered$consumption), ]$day)) # nolint: line_length_linter.\n",
    "\n",
    "values_cc_uv_missing_values.dates <- sum(daily_dataset.filtered$day == as.Date(cc_uv_missing_values.dates))"
   ]
  },
  {
   "cell_type": "markdown",
   "id": "8a479891",
   "metadata": {},
   "source": [
    "A few null values where identified in three different columns:\n",
    "\n",
    "* {{consumption_missing_values}} from the Consumption column\n",
    "* [`r cloudCover_missing_values`] from the Cloud Coverage index column\n",
    "* [`r uvIndex_missing_values`] from the Ultraviolet index \n",
    "\n",
    "The first is given by a few missing values distributed in `r consumption_missing_values.dates.num` different days.\n",
    "The other two variables however, have missing values representing the entirety of the values available for the `r format(cc_uv_missing_values.dates, format = \"%dst of %B of %Y\")` (as the values were missing from the original table \"weather_daily_darksky\" where each row represents the weather conditions for one day).\n",
    "\n",
    "With this kind of dataset the use basic data imputation techniques can yield misleading results as a change in the weather conditions varies the value of the variables greatly.\n",
    "The data imputation function which might be able to produce the best outcome is the K-nearest neighbors data imputation function."
   ]
  },
  {
   "cell_type": "code",
   "execution_count": 5,
   "id": "8e8927fe",
   "metadata": {
    "tags": [
     "remove_cell"
    ],
    "vscode": {
     "languageId": "r"
    }
   },
   "outputs": [
    {
     "name": "stderr",
     "output_type": "stream",
     "text": [
      "Warning message:\n",
      "\"il pacchetto 'performanceEstimation' è stato creato con R versione 4.2.3\"\n"
     ]
    }
   ],
   "source": [
    "\n",
    "library(performanceEstimation)\n",
    "# cloudCover and uvIndex imputation of missing values\n",
    "\n",
    "#imputate first the two values in the weather daily darskky table\n",
    "weather_daily_darksky$sunlightHours_numeric <- as.numeric(weather_daily_darksky$sunlightHours)\n",
    "\n",
    "features <- c(\"temperatureMax\", \"temperatureMin\", \"windBearing\", \"dewPoint\", \"windSpeed\", \"pressure\", \"visibility\", \"humidity\", \"sunlightHours_numeric\", \"x\")\n",
    "\n",
    "weather_daily_darksky$x <- as.numeric(weather_daily_darksky$uvIndex)\n",
    "weather_daily_darksky$uvIndex <- knnImp(weather_daily_darksky[, features], k = 10)$x\n",
    "\n",
    "weather_daily_darksky$x <- as.numeric(weather_daily_darksky$cloudCover)\n",
    "weather_daily_darksky$cloudCover <- knnImp(weather_daily_darksky[, features], k = 10)$x\n",
    "\n",
    "daily_dataset.filtered <- daily_dataset.filtered[, !(names(daily_dataset.filtered) %in% setdiff(colnames(weather_daily_darksky), \"day\"))]\n",
    "\n",
    "daily_dataset.filtered <- daily_dataset.filtered %>%\n",
    "  inner_join(weather_daily_darksky, by = c(\"day\" = \"day\")) %>%\n",
    "  dplyr::select(\n",
    "    LCLid,\n",
    "    day,\n",
    "    consumption,\n",
    "    isUkHoliday,\n",
    "    dayOfWeek,\n",
    "    dayOfYear,\n",
    "    stdorToU,\n",
    "    weather_condition,\n",
    "    cloudCover,\n",
    "    windBearing,\n",
    "    windSpeed,\n",
    "    pressure,\n",
    "    visibility,\n",
    "    humidity,\n",
    "    precipType,\n",
    "    uvIndex,\n",
    "    sunlightHours,\n",
    "    temperatureMin,\n",
    "    temperatureMax,\n",
    "    sunlightHours_numeric\n",
    "  )\n",
    "\n",
    "daily_dataset.filtered$sunlightHours <- as.numeric(daily_dataset.filtered$sunlightHours)\n",
    "\n",
    "# Define the features for imputation\n",
    "features <- c(\"dayOfYear\", \"dayOfWeek\", \"temperatureMax\", \"temperatureMin\", \"windBearing\", \"windSpeed\", \"pressure\", \"visibility\", \"humidity\", \"sunlightHours\", \"x\", \"uvIndex\", \"cloudCover\")\n",
    "\n",
    "# imputate only for the given user\n",
    "LCLid.list <- unique(daily_dataset.filtered[is.na(daily_dataset.filtered$consumption), ]$LCLid)\n",
    "\n",
    "daily_dataset.filtered$x <- as.numeric(daily_dataset.filtered$consumption)\n",
    "\n",
    "for(lcl in LCLid.list) {\n",
    "  lcl_rows = daily_dataset.filtered[daily_dataset.filtered$LCLid == lcl, ]\n",
    "  readingsCount <- nrow(daily_dataset.filtered[daily_dataset.filtered$LCLid == lcl, ])\n",
    "  if(readingsCount <= 50){\n",
    "    # if the number of values is not sufficient we remove the null rows for the given client\n",
    "    daily_dataset.filtered <- daily_dataset.filtered[!(daily_dataset.filtered$LCLid == lcl & is.na(daily_dataset.filtered$consumption)), ]\n",
    "  }else{\n",
    "    # otherwise we apply the imputation\n",
    "    daily_dataset.filtered.temp <- daily_dataset.filtered[daily_dataset.filtered$LCLid == lcl, features]\n",
    "    daily_dataset.filtered[daily_dataset.filtered$LCLid == lcl, features]$x <- knnImp(daily_dataset.filtered.temp, k = 10)$x\n",
    "  }\n",
    "}\n",
    "daily_dataset.filtered$consumption <- daily_dataset.filtered$x\n",
    "daily_dataset.filtered <- subset(daily_dataset.filtered, select = -x )\n"
   ]
  },
  {
   "cell_type": "markdown",
   "id": "1afcc369",
   "metadata": {
    "lines_to_next_cell": 0
   },
   "source": [
    "# STEP 3: EXPLORATORY ANALYSIS\n",
    "\n",
    "For Ease of analisys we apply the seasonal decomposition on two years."
   ]
  },
  {
   "cell_type": "code",
   "execution_count": 6,
   "id": "fc9fe867",
   "metadata": {
    "fig.show": "hold",
    "lines_to_next_cell": 0,
    "message": false,
    "out.width": "50%",
    "tags": [
     "remove_input"
    ],
    "vscode": {
     "languageId": "r"
    },
    "warning": false
   },
   "outputs": [
    {
     "data": {
      "image/png": "[encoded data removed]",
      "text/plain": [
       "Plot with title \"WEEKLY SEASONAL COMPONENTS DECOMPOSITION\""
      ]
     },
     "metadata": {
      "image/png": {
       "height": 420,
       "width": 420
      }
     },
     "output_type": "display_data"
    },
    {
     "data": {
      "image/png": "[encoded data removed]",
      "text/plain": [
       "Plot with title \"YEARLY SEASONAL COMPONENTS DECOMPOSITION\""
      ]
     },
     "metadata": {
      "image/png": {
       "height": 420,
       "width": 420
      }
     },
     "output_type": "display_data"
    }
   ],
   "source": [
    "\n",
    "daily_dataset.consumption <- na.omit(aggregate(daily_dataset.merged$consumption, by=list(day=daily_dataset.merged$day), FUN=mean))\n",
    "daily_dataset.consumption <- daily_dataset.consumption[daily_dataset.consumption$day >= \"2012-01-01\" & daily_dataset.consumption$day <= \"2014-01-10\",]\n",
    "\n",
    "# analysis of trend and seasonality\n",
    "ts_consumption.week <- ts(daily_dataset.consumption$x, frequency = 7)\n",
    "ts_consumption.week.decom <- stl(ts_consumption.week,s.window=\"periodic\")\n",
    "\n",
    "plot( ts_consumption.week.decom , main=\"WEEKLY SEASONAL COMPONENTS DECOMPOSITION\")\n",
    "\n",
    "ts_consumption.year <- ts(na.omit(ts_consumption.week.decom$time.series[, \"trend\"]), frequency = 364)\n",
    "ts_consumption.year.decom <- stl(ts_consumption.year,s.window=\"periodic\")\n",
    "\n",
    "plot( ts_consumption.year.decom , main=\"YEARLY SEASONAL COMPONENTS DECOMPOSITION\" )\n"
   ]
  },
  {
   "cell_type": "markdown",
   "id": "2e23fef5",
   "metadata": {
    "lines_to_next_cell": 0
   },
   "source": [
    "The graphs are the result of the seasonal decomposition of the time series to extrapolate the weekly components, then feed the weekly trend component back to the seasonal decomposition function and extrapolate the yearly components.\n",
    "There are two immediately noticeable seasonal components with both yearly and weekly frequency. There also is a considerable amount of variance related to the randomicity of the weather conditions (emphasized from the fact that the dataset has been recorded in London).\n",
    "\n",
    "If we extract only the random components of the time series we can see that the variance is not constant but it is more pronounced during a given period of the year (roughly during the winter)"
   ]
  },
  {
   "cell_type": "code",
   "execution_count": 7,
   "id": "9e1c8ff3",
   "metadata": {
    "lines_to_next_cell": 0,
    "message": false,
    "tags": [
     "remove_input"
    ],
    "vscode": {
     "languageId": "r"
    },
    "warning": false
   },
   "outputs": [
    {
     "data": {
      "image/png": "[encoded data removed]",
      "text/plain": [
       "Plot with title \"WEEKLY VARIANCE + YEARLY VARIANCE\""
      ]
     },
     "metadata": {
      "image/png": {
       "height": 420,
       "width": 420
      }
     },
     "output_type": "display_data"
    }
   ],
   "source": [
    "\n",
    "ts_consumption.week.decom.remainder <- ts(na.omit(ts_consumption.week.decom$time.series[, \"remainder\"]), frequency = 364)\n",
    "ts_consumption.year.decom.remainder <- ts(na.omit(ts_consumption.year.decom$time.series[, \"remainder\"]), frequency = 364)\n",
    "\n",
    "plot( ts_consumption.week.decom.remainder + ts_consumption.year.decom.remainder, xlab=\"Time (in YEARS)\", ylab=\"consumption variance\", main=\"WEEKLY VARIANCE + YEARLY VARIANCE\")\n"
   ]
  },
  {
   "cell_type": "markdown",
   "id": "e661b088",
   "metadata": {},
   "source": [
    "We then apply the spectral analysis on the resulting variance to verify that there is no further meaningful seasonality to be extracted from the time series:"
   ]
  },
  {
   "cell_type": "code",
   "execution_count": 8,
   "id": "06f2d05e",
   "metadata": {
    "fig.show": "hold",
    "lines_to_next_cell": 0,
    "message": false,
    "out.width": "50%",
    "tags": [
     "remove_input"
    ],
    "vscode": {
     "languageId": "r"
    },
    "warning": false
   },
   "outputs": [
    {
     "data": {
      "image/png": "[encoded data removed]",
      "text/plain": [
       "Plot with title \"Series: x\n",
       "Smoothed Periodogram\""
      ]
     },
     "metadata": {
      "image/png": {
       "height": 420,
       "width": 420
      }
     },
     "output_type": "display_data"
    },
    {
     "data": {
      "image/png": "[encoded data removed]",
      "text/plain": [
       "Plot with title \"Series: x\n",
       "Smoothed Periodogram\""
      ]
     },
     "metadata": {
      "image/png": {
       "height": 420,
       "width": 420
      }
     },
     "output_type": "display_data"
    }
   ],
   "source": [
    "ts_consumption <- ts(daily_dataset.consumption$x)\n",
    "ts_variance_consumption <- ts(ts_consumption.week.decom.remainder + ts_consumption.year.decom.remainder)\n",
    "\n",
    "# Perform spectral analysis and extract frequency of seasonality\n",
    "spectrum(ts_consumption, span=5, log = c(\"no\"))\n",
    "spec_result <- spectrum(ts_variance_consumption, span=5, log = c(\"no\"), ylim=c(0, 248.5))\n",
    "\n",
    "freq <- spec_result$freq\n",
    "power <- spec_result$spec\n",
    "\n",
    "max_power_index <- which.max(power)\n",
    "\n",
    "# Extract the frequency corresponding to the maximum power\n",
    "max_frequency.period <- 1/freq[max_power_index]\n"
   ]
  },
  {
   "cell_type": "markdown",
   "id": "982e4127",
   "metadata": {
    "lines_to_next_cell": 0
   },
   "source": [
    "As we can see the most important seasonal components have been extracted from the dataset. What remains is a seasonality with a \"spectrum\" value of a fraction of the observed yearly seasonality, and period\n",
    "equal to \\(`r round(max_frequency.period, digits = 3)`\\).\n",
    "\n",
    "To better pinpoint the effect of the wether conditions on the time series we will remove the weekly seasonality, and yearly trend from the time series (to only keep the components previously identified as variance and those who are most likely influenced by the weather conditions). ([ASSUMPTION n°4](#assumptions))"
   ]
  },
  {
   "cell_type": "code",
   "execution_count": 9,
   "id": "8065b591",
   "metadata": {
    "lines_to_next_cell": 2,
    "message": false,
    "tags": [
     "remove_input"
    ],
    "vscode": {
     "languageId": "r"
    },
    "warning": false
   },
   "outputs": [
    {
     "data": {
      "image/png": "[encoded data removed]",
      "text/plain": [
       "Plot with title \"WEEKLY VARIANCE + YEARLY VARIANCE + YEARLY SEASONALITY\""
      ]
     },
     "metadata": {
      "image/png": {
       "height": 420,
       "width": 420
      }
     },
     "output_type": "display_data"
    }
   ],
   "source": [
    "\n",
    "ts_consumption.year.decom.seasonal <- ts(na.omit(ts_consumption.year.decom$time.series[, \"seasonal\"]), frequency = 364)\n",
    "\n",
    "plot( ts_consumption.week.decom.remainder + ts_consumption.week.decom.remainder + ts_consumption.year.decom.seasonal, xlab=\"Time (in YEARS)\", ylab=\"consumption variance\", main=\"WEEKLY VARIANCE + YEARLY VARIANCE + YEARLY SEASONALITY\")\n"
   ]
  },
  {
   "cell_type": "code",
   "execution_count": 10,
   "id": "e1856110",
   "metadata": {
    "lines_to_next_cell": 0,
    "tags": [
     "remove_cell"
    ],
    "vscode": {
     "languageId": "r"
    }
   },
   "outputs": [
    {
     "name": "stderr",
     "output_type": "stream",
     "text": [
      "Warning message:\n",
      "\"il pacchetto 'PerformanceAnalytics' è stato creato con R versione 4.2.3\"\n",
      "Caricamento del pacchetto richiesto: xts\n",
      "\n",
      "Warning message:\n",
      "\"il pacchetto 'xts' è stato creato con R versione 4.2.3\"\n",
      "Caricamento del pacchetto richiesto: zoo\n",
      "\n",
      "Warning message:\n",
      "\"il pacchetto 'zoo' è stato creato con R versione 4.2.3\"\n",
      "\n",
      "Caricamento pacchetto: 'zoo'\n",
      "\n",
      "\n",
      "I seguenti oggetti sono mascherati da 'package:base':\n",
      "\n",
      "    as.Date, as.Date.numeric\n",
      "\n",
      "\n",
      "\n",
      "################################### WARNING ###################################\n",
      "# We noticed you have dplyr installed. The dplyr lag() function breaks how    #\n",
      "# base R's lag() function is supposed to work, which breaks lag(my_xts).      #\n",
      "#                                                                             #\n",
      "# Calls to lag(my_xts) that you enter or source() into this session won't     #\n",
      "# work correctly.                                                             #\n",
      "#                                                                             #\n",
      "# All package code is unaffected because it is protected by the R namespace   #\n",
      "# mechanism.                                                                  #\n",
      "#                                                                             #\n",
      "# Set `options(xts.warn_dplyr_breaks_lag = FALSE)` to suppress this warning.  #\n",
      "#                                                                             #\n",
      "# You can use stats::lag() to make sure you're not using dplyr::lag(), or you #\n",
      "# can add conflictRules('dplyr', exclude = 'lag') to your .Rprofile to stop   #\n",
      "# dplyr from breaking base R's lag() function.                                #\n",
      "################################### WARNING ###################################\n",
      "\n",
      "\n",
      "Caricamento pacchetto: 'xts'\n",
      "\n",
      "\n",
      "I seguenti oggetti sono mascherati da 'package:dplyr':\n",
      "\n",
      "    first, last\n",
      "\n",
      "\n",
      "\n",
      "Caricamento pacchetto: 'PerformanceAnalytics'\n",
      "\n",
      "\n",
      "Il seguente oggetto è mascherato da 'package:graphics':\n",
      "\n",
      "    legend\n",
      "\n",
      "\n",
      "Warning message:\n",
      "\"il pacchetto 'Hmisc' è stato creato con R versione 4.2.3\"\n",
      "\n",
      "Caricamento pacchetto: 'Hmisc'\n",
      "\n",
      "\n",
      "I seguenti oggetti sono mascherati da 'package:dplyr':\n",
      "\n",
      "    src, summarize\n",
      "\n",
      "\n",
      "I seguenti oggetti sono mascherati da 'package:base':\n",
      "\n",
      "    format.pval, units\n",
      "\n",
      "\n",
      "Warning message:\n",
      "\"il pacchetto 'corrplot' è stato creato con R versione 4.2.3\"\n",
      "corrplot 0.92 loaded\n",
      "\n"
     ]
    }
   ],
   "source": [
    "library(PerformanceAnalytics)\n",
    "library(Hmisc)\n",
    "library(corrplot)\n",
    "\n",
    "# remove non weather influenced components from daily_dataset.consumption\n",
    "daily_dataset.consumption$x <- daily_dataset.consumption$x - ts(na.omit(ts_consumption.week.decom$time.series[, \"seasonal\"]), frequency = 360) - ts(na.omit(ts_consumption.year.decom$time.series[, \"trend\"]), frequency = 360)\n",
    "\n",
    "weather_daily_darksky <- subset(weather_daily_darksky, select = -x )\n",
    "\n",
    "daily_dataset.consumption <- daily_dataset.consumption %>%\n",
    "  inner_join(weather_daily_darksky, by = c(\"day\" = \"day\")) %>%\n",
    "  dplyr::select(\n",
    "    day,\n",
    "    x,\n",
    "    weather_condition,\n",
    "    cloudCover,\n",
    "    windBearing,\n",
    "    windSpeed,\n",
    "    pressure,\n",
    "    visibility,\n",
    "    humidity,\n",
    "    precipType,\n",
    "    uvIndex,\n",
    "    sunlightHours_numeric,\n",
    "    temperatureMin,\n",
    "    temperatureMax\n",
    "  )\n",
    "\n",
    "daily_dataset.consumption <- daily_dataset.consumption %>%\n",
    "  mutate(\n",
    "    isUkHoliday = as.numeric(day %in% uk_bank_holidays$Bank.holidays),\n",
    "    dayOfWeek = wday(day, week_start=1),\n",
    "    dayOfYear = as.numeric(strftime(day, format = \"%j\")),\n",
    "    consumption = x\n",
    "  )\n",
    "\n",
    "daily_dataset.consumption <- subset(daily_dataset.consumption, select = -x )"
   ]
  },
  {
   "cell_type": "markdown",
   "id": "8364d3b6",
   "metadata": {
    "lines_to_next_cell": 0
   },
   "source": [
    "To allow the measurement of the correlation level, some character variables have been converted in numeric by replacing their value with the index of said value inside of a vector (containing all values sorted by mean consumption)."
   ]
  },
  {
   "cell_type": "code",
   "execution_count": 11,
   "id": "00d38aab",
   "metadata": {
    "message": false,
    "vscode": {
     "languageId": "r"
    }
   },
   "outputs": [],
   "source": [
    "weather_condition_sorted <- aggregate(daily_dataset.filtered$consumption, by=list(weather_condition=daily_dataset.filtered$weather_condition), FUN=mean)\n",
    "weather_condition_sorted <- weather_condition_sorted[order(weather_condition_sorted$x), ]$weather_condition\n",
    "\n",
    "daily_dataset.consumption$weather_condition <- match(daily_dataset.consumption$weather_condition, weather_condition_sorted)\n",
    "\n",
    "precipType_sorted <- aggregate(daily_dataset.filtered$consumption, by=list(precipType=daily_dataset.filtered$precipType), FUN=mean)\n",
    "precipType_sorted <- precipType_sorted[order(precipType_sorted$x), ]$precipType\n",
    "\n",
    "daily_dataset.consumption$precipType <- match(daily_dataset.consumption$precipType, precipType_sorted)"
   ]
  },
  {
   "cell_type": "code",
   "execution_count": 12,
   "id": "db84052e",
   "metadata": {
    "lines_to_next_cell": 0,
    "message": false,
    "tags": [
     "remove_input"
    ],
    "vscode": {
     "languageId": "r"
    },
    "warning": false
   },
   "outputs": [
    {
     "data": {
      "image/png": "[encoded data removed]",
      "text/plain": [
       "Plot with title \"Pearson correlation for consumption\""
      ]
     },
     "metadata": {
      "image/png": {
       "height": 420,
       "width": 420
      }
     },
     "output_type": "display_data"
    }
   ],
   "source": [
    "corr_matrix.pearson <- rcorr(as.matrix(daily_dataset.consumption[, c(-1, -14)]), type = \"pearson\")\n",
    "corrplot(corr_matrix.pearson[[1]][1:14, 15, drop=FALSE], cl.pos='n', method = \"number\", mar=c(0,0,1,0) ,title = \"Pearson correlation for consumption\")\n"
   ]
  },
  {
   "cell_type": "markdown",
   "id": "273becd8",
   "metadata": {},
   "source": [
    "In the end the Pearson correlation coefficient has been chosen as it provided the correlation values with highest modulus for all variables.\n",
    "As we can see, having removed the weekly component of seasonality, the \"dayOfWeek\" endogeneous variable has next to no correlation with the consumption target variable. There is also a few other variables such as \"windBearing\" and \"pressure\" that, due to the limited amount of correlation with the target variable, will have a limited effect when evaluating the effect of weather conditions on consumption, so they will be removed when implementing neural networks or forecasting techniques to predict the time series future values.\n",
    "\n",
    "# STEP 4: APPLY FORECASTING TECHNIQUES (holt-winters, ARIMA, Regression Analysis)"
   ]
  },
  {
   "cell_type": "code",
   "execution_count": 13,
   "id": "dbe49936",
   "metadata": {
    "fig.show": "hold",
    "message": false,
    "out.width": "50%",
    "tags": [
     "remove_input"
    ],
    "vscode": {
     "languageId": "r"
    },
    "warning": false
   },
   "outputs": [
    {
     "name": "stderr",
     "output_type": "stream",
     "text": [
      "Warning message:\n",
      "\"il pacchetto 'forecast' è stato creato con R versione 4.2.3\"\n",
      "Registered S3 method overwritten by 'quantmod':\n",
      "  method            from\n",
      "  as.zoo.data.frame zoo \n",
      "\n",
      "\n",
      "Caricamento pacchetto: 'forecast'\n",
      "\n",
      "\n",
      "Il seguente oggetto è mascherato da 'package:performanceEstimation':\n",
      "\n",
      "    CV\n",
      "\n",
      "\n"
     ]
    },
    {
     "data": {
      "image/png": "[encoded data removed]",
      "text/plain": [
       "Plot with title \"holt-winters forecast\""
      ]
     },
     "metadata": {
      "image/png": {
       "height": 420,
       "width": 420
      }
     },
     "output_type": "display_data"
    },
    {
     "data": {
      "image/png": "[encoded data removed]",
      "text/plain": [
       "Plot with title \"ARIMA forecast\""
      ]
     },
     "metadata": {
      "image/png": {
       "height": 420,
       "width": 420
      }
     },
     "output_type": "display_data"
    }
   ],
   "source": [
    "library(forecast)\n",
    "\n",
    "# apply holt-winters forecasting technique\n",
    "daily_dataset.tmp <- na.omit(aggregate(daily_dataset.merged$consumption, by=list(day=daily_dataset.merged$day), FUN=mean))\n",
    "daily_dataset.tmp <- daily_dataset.tmp[daily_dataset.tmp$day >= \"2012-01-01\" & daily_dataset.tmp$day <= \"2014-02-27\",]\n",
    "\n",
    "ts_consumption.month <- ts(daily_dataset.tmp$x, frequency = 360)\n",
    "ts_consumption.month.HW <- HoltWinters(ts_consumption.month, seasonal = \"additive\")\n",
    "\n",
    "#forecast one year into the future\n",
    "ts_consumption.month.HW.predict <- predict(ts_consumption.month.HW, 360, prediction.interval = TRUE, level=0.5)\n",
    "\n",
    "x<-plot(ts_consumption.month, ylab=\"consumption\", xlim=c(1, 4.2), ylim=c(4.5, 16.5), main=\"holt-winters forecast\") + lines(ts_consumption.month.HW$fitted[,1], lty=2, col=\"blue\") + lines(ts_consumption.month.HW.predict[,1], col=\"orange\") + lines(ts_consumption.month.HW.predict[,2], col=\"green\") + lines(ts_consumption.month.HW.predict[,3], col=\"red\")\n",
    "\n",
    "##############################################\n",
    "# apply ARIMA forecasting technique\n",
    "ts_consumption.month.ARIMA <- auto.arima(ts_consumption.month)\n",
    "\n",
    "#forecast one year into the future\n",
    "ts_consumption.month.ARIMA.predict <- forecast(ts_consumption.month.ARIMA, h = 360, level = 90)\n",
    "\n",
    "plot(ts_consumption.month.ARIMA.predict, ylab = \"consumption\", xlim = c(1, 4.2), ylim = c(4.5, 16.5), main=\"ARIMA forecast\") \n",
    "lines(window(fitted(ts_consumption.month.ARIMA, start = 2), start = 2), col = \"blue\", lty = 2)\n"
   ]
  },
  {
   "cell_type": "markdown",
   "id": "4bedfef1",
   "metadata": {},
   "source": [
    "very low Confidence Level on the holt winters model (0.5) due to the high variance of the time series while the Arima model produces results with a far greater CL at 90%"
   ]
  },
  {
   "cell_type": "code",
   "execution_count": 14,
   "id": "7d500343",
   "metadata": {
    "lines_to_next_cell": 0,
    "message": false,
    "tags": [
     "remove_input"
    ],
    "vscode": {
     "languageId": "r"
    },
    "warning": false
   },
   "outputs": [
    {
     "name": "stderr",
     "output_type": "stream",
     "text": [
      "Warning message:\n",
      "\"\u001b[1m\u001b[22mUsing `size` aesthetic for lines was deprecated in ggplot2 3.4.0.\n",
      "\u001b[36mℹ\u001b[39m Please use `linewidth` instead.\"\n"
     ]
    },
    {
     "data": {
      "image/png": "[encoded data removed]",
      "text/plain": [
       "plot without title"
      ]
     },
     "metadata": {
      "image/png": {
       "height": 420,
       "width": 420
      }
     },
     "output_type": "display_data"
    }
   ],
   "source": [
    "\n",
    "#apply regression analisys forecasting technique\n",
    "daily_dataset.tmp <- na.omit(aggregate(daily_dataset.merged$consumption, by=list(day=daily_dataset.merged$day), FUN=mean))\n",
    "daily_dataset.tmp <- daily_dataset.tmp[daily_dataset.tmp$day >= \"2012-01-01\" & daily_dataset.tmp$day <= \"2014-02-27\",]\n",
    "daily_dataset.tmp <- daily_dataset.tmp %>%\n",
    "  mutate(\n",
    "    isUkHoliday = as.numeric(day %in% uk_bank_holidays$Bank.holidays),\n",
    "    dayOfWeek = wday(day, week_start=1),\n",
    "    dayOfYear = as.numeric(strftime(day, format = \"%j\")),\n",
    "    year = as.numeric(strftime(day, format = \"%Y\")),\n",
    "    consumption = x\n",
    "  ) \n",
    "daily_dataset.tmp <- daily_dataset.tmp %>%\n",
    "  inner_join(weather_daily_darksky, by = c(\"day\" = \"day\")) %>%\n",
    "  dplyr::select(\n",
    "    day,\n",
    "    x,\n",
    "    dayOfWeek,\n",
    "    dayOfYear,\n",
    "    year,\n",
    "    weather_condition,\n",
    "    cloudCover,\n",
    "    windSpeed,\n",
    "    visibility,\n",
    "    humidity,\n",
    "    precipType,\n",
    "    uvIndex,\n",
    "    temperatureMin,\n",
    "    temperatureMax,\n",
    "    sunlightHours_numeric\n",
    "  )\n",
    "daily_dataset.tmp$weather_condition <- match(daily_dataset.tmp$weather_condition, weather_condition_sorted)\n",
    "daily_dataset.tmp$precipType <- match(daily_dataset.tmp$precipType, precipType_sorted)\n",
    "\n",
    "# Prepare the data for regression\n",
    "model_data <- daily_dataset.tmp %>%\n",
    "  dplyr::select(-day)  # Exclude the 'day' column for regression\n",
    "\n",
    "# Fit the regression model\n",
    "reg_analisys.model <- lm(x ~ ., data = model_data)\n",
    "\n",
    "plot_data <- data.frame(day = daily_dataset.tmp$day, observed = daily_dataset.tmp$x, predicted = predict(reg_analisys.model, daily_dataset.tmp))\n",
    "\n",
    "\n",
    "ggplot(plot_data, aes(x = day)) +\n",
    "  geom_line(aes(y = observed, color = \"Observed\"), size = 1) +\n",
    "  geom_line(aes(y = predicted, color = \"Predicted\"), size = 1, linetype = \"dashed\") +\n",
    "  labs(title = \"regression analisys model\",\n",
    "       x = \"Day\",\n",
    "       y = \"Consumption\") +\n",
    "  theme_minimal()\n"
   ]
  },
  {
   "cell_type": "markdown",
   "id": "01aae072",
   "metadata": {},
   "source": [
    "# STEP 5: ASSESS FORECASTING TECHNIQUES"
   ]
  },
  {
   "cell_type": "code",
   "execution_count": 15,
   "id": "0ca2fa02",
   "metadata": {
    "message": false,
    "tags": [
     "remove_input"
    ],
    "vscode": {
     "languageId": "r"
    },
    "warning": false
   },
   "outputs": [
    {
     "data": {
      "text/plain": [
       "\n",
       "\n",
       "Table: Model Comparison Results\n",
       "\n",
       "|Model               |       MAE|       MSE| Forecast_Bias|      PCPD| R_squared|\n",
       "|:-------------------|---------:|---------:|-------------:|---------:|---------:|\n",
       "|Holt-Winters        | 0.2769976| 0.2202225|    -0.0068744| 0.6682692| 0.9312065|\n",
       "|ARIMA               | 0.2726619| 0.2324613|    -0.0073888| 0.7332474| 0.9335837|\n",
       "|Regression Analysis | 0.4365205| 0.3186512|     0.0000000| 0.6585052| 0.9068586|"
      ]
     },
     "metadata": {},
     "output_type": "display_data"
    }
   ],
   "source": [
    "library(knitr)\n",
    "\n",
    "# Function to calculate PCPD\n",
    "pcpd <- function(actual, forecast) {\n",
    "  direction_actual <- diff(actual) > 0\n",
    "  direction_forecast <- diff(forecast) > 0\n",
    "  correct_direction <- sum(direction_actual == direction_forecast)\n",
    "  total_directions <- length(direction_actual) - 1  # Exclude the first data point\n",
    "  return(correct_direction / total_directions)\n",
    "}\n",
    "\n",
    "# Function to calculate R2\n",
    "RSQUARE = function(y_actual,y_predict){\n",
    "  cor(y_actual,y_predict)^2\n",
    "}\n",
    "\n",
    "# Calculate MAE and MSE for Holt-Winters model\n",
    "mae_hw <- mean(abs(ts_consumption.month - ts_consumption.month.HW$fitted[,1]))\n",
    "mse_hw <- mean((ts_consumption.month - ts_consumption.month.HW$fitted[,1])^2)\n",
    "bias_hw <- mean(ts_consumption.month - ts_consumption.month.HW$fitted[,1])\n",
    "pcpd_hw <- pcpd(window(ts_consumption.month, start = 2), ts_consumption.month.HW$fitted[,1])\n",
    "r_squared_hw <- RSQUARE(window(ts_consumption.month, start = 2), ts_consumption.month.HW$fitted[,1])\n",
    "\n",
    "# Calculate MAE and MSE for ARIMA model\n",
    "mae_arima <- mean(abs(ts_consumption.month - fitted(ts_consumption.month.ARIMA)))\n",
    "mse_arima <- mean((ts_consumption.month - fitted(ts_consumption.month.ARIMA))^2)\n",
    "bias_arima <- mean(ts_consumption.month - fitted(ts_consumption.month.ARIMA))\n",
    "pcpd_arima <- pcpd(ts_consumption.month, fitted(ts_consumption.month.ARIMA))\n",
    "r_squared_arima <- RSQUARE(ts_consumption.month, fitted(ts_consumption.month.ARIMA))\n",
    "\n",
    "# Calculate MAE and MSE for Regression Analysis model\n",
    "mae_reg <- mean(abs(plot_data$observed - plot_data$predicted))\n",
    "mse_reg <- mean((plot_data$observed - plot_data$predicted)^2)\n",
    "bias_reg <- mean(plot_data$observed - plot_data$predicted)\n",
    "pcpd_reg <- pcpd(plot_data$observed, plot_data$predicted)\n",
    "r_squared_reg <- RSQUARE(plot_data$observed, plot_data$predicted)\n",
    "\n",
    "# Create a data frame with the results\n",
    "results_df <- data.frame(\n",
    "  Model = c(\"Holt-Winters\", \"ARIMA\", \"Regression Analysis\"),\n",
    "  MAE = c(mae_hw, mae_arima, mae_reg),\n",
    "  MSE = c(mse_hw, mse_arima, mse_reg),\n",
    "  Forecast_Bias = c(bias_hw, bias_arima, bias_reg),\n",
    "  PCPD = c(pcpd_hw, pcpd_arima, pcpd_reg),\n",
    "  R_squared = c(r_squared_hw, r_squared_arima, r_squared_reg)\n",
    ")\n",
    "\n",
    "# Display the results as a table\n",
    "kable(results_df, caption = \"Model Comparison Results\", format = \"markdown\")"
   ]
  },
  {
   "cell_type": "markdown",
   "id": "80ddc6e1",
   "metadata": {},
   "source": [
    "Given that the three models have different objectives, as HW and Ariama can be suitable to make predictions in the medium to long term (from a few months to 1 or 2 years) while the regression analysis is more suitable to make prediction in the short term (given that the weather conditions for the day have to be known), they over perform each others in different ways as shown by the metrics above.\n",
    "out of the models the one that exhibits the lowest overall error is the ARIMA models with an Mean Average Error of \\(`r round(mae_arima, digits = 3)`\\), a percentage of correct prediction direction of \\(`r round(pcpd_arima*100, digits = 3)`\\%\\), and the most explained variance (\\(`r round(r_squared_arima*100, digits = 3)`\\%\\) R-squared). At the same time it tends to produce more \"large\" errors than the Holt-Winters model (\\(`r round(mse_arima, digits = 3)` > `r round(mse_hw, digits = 3)`\\)). Both of these two models have some (even if still very limited when forecasting only a few consumers) amount of bias on their results toward the conservative side, opposite to the RA model whose mean error seems to be spot on.\n",
    "\n",
    "Overall, whenever the objective is to forecast the consumption of the distribution network as a whole or to predict the behaviour of a large population of consumers, the best use for these models would be to:\n",
    "1. adopt the Regression Analysis model to make predictions of up to one to two week into the future while still comparing its results with those obtained from the Arima model\n",
    "2. Use the Arima model for any other type of prediction\n",
    "\n",
    "# STEP 6: MULTIVARIATE REGRESSION OF MEAN AND MAXIMUM DAILY USER CONSUMPTIONS\n",
    "Given the context we might be interested in defining a model capeable of predicting both mean and maximum pro capite consumption values to account for the maximum load that some users might have.\n",
    "To mitigate the effect of outliers, on the maximum value, 2 different techniques are to be used:\n",
    "1. the calculation of the maximum value as the mean between the 3 highest consumers of the day.\n",
    "2. the implementation of a 3 lags moving average"
   ]
  },
  {
   "cell_type": "code",
   "execution_count": 16,
   "id": "90102764",
   "metadata": {
    "lines_to_next_cell": 0,
    "message": false,
    "tags": [
     "remove_input"
    ],
    "vscode": {
     "languageId": "r"
    },
    "warning": false
   },
   "outputs": [
    {
     "data": {
      "image/png": "[encoded data removed]",
      "text/plain": [
       "Plot with title \"Daily Consumption Statistics\""
      ]
     },
     "metadata": {
      "image/png": {
       "height": 420,
       "width": 420
      }
     },
     "output_type": "display_data"
    }
   ],
   "source": [
    "#aggregate to obtain the max (defined as the mean between the 3 largest consumers of the day to mitigate outliers) and mean daily consumption\n",
    "daily_dataset.tmp <- na.omit(aggregate(daily_dataset.merged$consumption, by=list(day=daily_dataset.merged$day), FUN=function(x) {\n",
    "  sorted_values <- sort(x, decreasing=TRUE)\n",
    "  top_three_mean <- mean(sorted_values[1:3])\n",
    "  c(max=top_three_mean, mean=mean(x))\n",
    "}))\n",
    "daily_dataset.tmp <- daily_dataset.tmp[daily_dataset.tmp$day >= \"2012-06-01\" & daily_dataset.tmp$day <= \"2014-02-27\",]\n",
    "daily_dataset.tmp <- daily_dataset.tmp %>%\n",
    "  mutate(\n",
    "    x.mean = x[, \"mean\"],\n",
    "    x.max = x[, \"max\"]\n",
    "  ) \n",
    "\n",
    "# implementation of the 3 lag centered moving average\n",
    "daily_dataset.tmp$x.max <- stats::filter(daily_dataset.tmp$x.max, rep(1/3, 3), sides = 2)\n",
    "daily_dataset.tmp$x.mean <- stats::filter(daily_dataset.tmp$x.mean, rep(1/3, 3), sides = 2)\n",
    "\n",
    "plot(daily_dataset.tmp$day, daily_dataset.tmp$x.max, type=\"l\", col=\"red\", lty=1, ylim=c(0, 220), main=\"Daily Consumption Statistics\", xlab=\"Day\", ylab=\"Consumption\")\n",
    "lines(daily_dataset.tmp$day, daily_dataset.tmp$x.mean, col=\"blue\", lty=1)\n",
    "legend(\"topright\", legend=c(\"Max\", \"Mean\"), col=c(\"red\", \"blue\"), lty=1:1)\n",
    "\n",
    "# Prepare the data for multivariate regression\n",
    "ts_data <- na.omit(daily_dataset.tmp) %>% dplyr::select(-day) %>% dplyr::select(-x)  # Exclude the 'day' column for regression"
   ]
  },
  {
   "cell_type": "markdown",
   "id": "20821d37",
   "metadata": {},
   "source": [
    "To do so a Vector Auto Regression model is used."
   ]
  },
  {
   "cell_type": "code",
   "execution_count": 17,
   "id": "b9eefbd6",
   "metadata": {
    "lines_to_next_cell": 0,
    "message": false,
    "tags": [
     "remove_input"
    ],
    "vscode": {
     "languageId": "r"
    },
    "warning": false
   },
   "outputs": [
    {
     "name": "stderr",
     "output_type": "stream",
     "text": [
      "Warning message:\n",
      "\"il pacchetto 'vars' è stato creato con R versione 4.2.3\"\n",
      "Caricamento del pacchetto richiesto: MASS\n",
      "\n",
      "\n",
      "Caricamento pacchetto: 'MASS'\n",
      "\n",
      "\n",
      "Il seguente oggetto è mascherato da 'package:dplyr':\n",
      "\n",
      "    select\n",
      "\n",
      "\n",
      "Caricamento del pacchetto richiesto: strucchange\n",
      "\n",
      "Warning message:\n",
      "\"il pacchetto 'strucchange' è stato creato con R versione 4.2.3\"\n",
      "Caricamento del pacchetto richiesto: sandwich\n",
      "\n",
      "Warning message:\n",
      "\"il pacchetto 'sandwich' è stato creato con R versione 4.2.3\"\n",
      "Caricamento del pacchetto richiesto: urca\n",
      "\n",
      "Warning message:\n",
      "\"il pacchetto 'urca' è stato creato con R versione 4.2.3\"\n",
      "Caricamento del pacchetto richiesto: lmtest\n",
      "\n",
      "Warning message:\n",
      "\"il pacchetto 'lmtest' è stato creato con R versione 4.2.3\"\n"
     ]
    },
    {
     "name": "stdout",
     "output_type": "stream",
     "text": [
      "$selection\n",
      "AIC(n)  HQ(n)  SC(n) FPE(n) \n",
      "    32     20      9     20 \n",
      "\n",
      "$criteria\n",
      "               1          2          3          4          5          6\n",
      "AIC(n) 0.5012354 -0.2187310 -0.3261382 -0.6483511 -0.7474602 -0.7686590\n",
      "HQ(n)  0.5275270 -0.1792937 -0.2735551 -0.5826222 -0.6685855 -0.6766386\n",
      "SC(n)  0.5682604 -0.1181935 -0.1920882 -0.4807885 -0.5463851 -0.5340714\n",
      "FPE(n) 1.6507605  0.8035396  0.7217093  0.5229127  0.4735763  0.4636476\n",
      "                7          8          9         10         11         12\n",
      "AIC(n) -0.7792666 -0.8211935 -0.9646147 -0.9703210 -0.9905022 -1.0088788\n",
      "HQ(n)  -0.6741004 -0.7028815 -0.8331569 -0.8257175 -0.8327529 -0.8379837\n",
      "SC(n)  -0.5111665 -0.5195809 -0.6294896 -0.6016834 -0.5883521 -0.5732162\n",
      "FPE(n)  0.4587619  0.4399331  0.3811618  0.3790034  0.3714437  0.3646944\n",
      "               13         14         15         16         17         18\n",
      "AIC(n) -0.9996074 -1.0510517 -1.0364091 -1.0406590 -1.0706089 -1.0810802\n",
      "HQ(n)  -0.8155665 -0.8538650 -0.8260766 -0.8171808 -0.8339849 -0.8313105\n",
      "SC(n)  -0.5304323 -0.5483640 -0.5002089 -0.4709464 -0.4673837 -0.4443426\n",
      "FPE(n)  0.3681082  0.3496684  0.3548476  0.3533668  0.3429669  0.3394235\n",
      "               19         20         21         22         23         24\n",
      "AIC(n) -1.1045397 -1.1618352 -1.1494796 -1.1595325 -1.1536681 -1.1516759\n",
      "HQ(n)  -0.8416242 -0.8857738 -0.8602725 -0.8571797 -0.8381695 -0.8230315\n",
      "SC(n)  -0.4342895 -0.4580724 -0.4122044 -0.3887448 -0.3493679 -0.3138632\n",
      "FPE(n)  0.3315851  0.3131540  0.3170841  0.3139525  0.3158430  0.3165208\n",
      "               25         26         27         28         29         30\n",
      "AIC(n) -1.1389074 -1.1413116 -1.1418930 -1.1410326 -1.1555165 -1.1432399\n",
      "HQ(n)  -0.7971171 -0.7863756 -0.7738112 -0.7598051 -0.7611431 -0.7357208\n",
      "SC(n)  -0.2675821 -0.2364738 -0.2035427 -0.1691699 -0.1501412 -0.1043521\n",
      "FPE(n)  0.3206409  0.3199277  0.3198029  0.3201440  0.3156101  0.3195840\n",
      "                31          32          33          34          35         36\n",
      "AIC(n) -1.14059568 -1.16402082 -1.15152292 -1.13695298 -1.13073811 -1.1351553\n",
      "HQ(n)  -0.71993079 -0.73021015 -0.70456647 -0.67685075 -0.65749010 -0.6487615\n",
      "SC(n)  -0.06819536 -0.05810799 -0.01209758  0.03598487  0.07571225  0.1048075\n",
      "FPE(n)  0.32051096  0.31317428  0.31720343  0.32195651  0.32406780  0.3227492\n",
      "               37         38         39         40         41         42\n",
      "AIC(n) -1.1277946 -1.1425930 -1.1421968 -1.1300428 -1.1316294 -1.1286246\n",
      "HQ(n)  -0.6282550 -0.6299077 -0.6163657 -0.5910659 -0.5795068 -0.5633562\n",
      "SC(n)   0.1456808  0.1643949  0.1983036  0.2439701  0.2758960  0.3124133\n",
      "FPE(n)  0.3252506  0.3205944  0.3208497  0.3249098  0.3245383  0.3256663\n",
      "               43         44         45         46         47         48\n",
      "AIC(n) -1.1182169 -1.1157265 -1.1037774 -1.0917899 -1.0892703 -1.0842158\n",
      "HQ(n)  -0.5398027 -0.5241665 -0.4990716 -0.4739384 -0.4582730 -0.4400727\n",
      "SC(n)   0.3563335  0.3923364  0.4377980  0.4832981  0.5193302  0.5578972\n",
      "FPE(n)  0.3292339  0.3302235  0.3343719  0.3385937  0.3396464  0.3415760\n",
      "               49         50         51         52         53         54\n",
      "AIC(n) -1.0861289 -1.1017075 -1.0892141 -1.0780679 -1.0744145 -1.0687476\n",
      "HQ(n)  -0.4288400 -0.4312728 -0.4056336 -0.3813417 -0.3645425 -0.3457298\n",
      "SC(n)   0.5894966  0.6074305  0.6534365  0.6980951  0.7352611  0.7744405\n",
      "FPE(n)  0.3411404  0.3360903  0.3405511  0.3446162  0.3461368  0.3483751\n",
      "               55         56         57         58         59         60\n",
      "AIC(n) -1.0601231 -1.0598217 -1.0469099 -1.0370389 -1.0288891 -1.0202480\n",
      "HQ(n)  -0.3239595 -0.3105123 -0.2844547 -0.2614380 -0.2401425 -0.2183555\n",
      "SC(n)   0.8165775  0.8503914  0.8968157  0.9401992  0.9818615  1.0240152\n",
      "FPE(n)  0.3516771  0.3520789  0.3569654  0.3608325  0.3641263  0.3676432\n",
      "               61         62         63         64         65         66\n",
      "AIC(n) -1.0366836 -1.0383581 -1.0426681 -1.0421558 -1.0509707 -1.0398565\n",
      "HQ(n)  -0.2216453 -0.2101741 -0.2013383 -0.1876803 -0.1833494 -0.1590894\n",
      "SC(n)   1.0410921  1.0729300  1.1021326  1.1361573  1.1608549  1.2054816\n",
      "FPE(n)  0.3620139  0.3617844  0.3606164  0.3612029  0.3584449  0.3628818\n",
      "               67         68          69          70          71          72\n",
      "AIC(n) -1.0318743 -1.0257622 -1.01275694 -1.00900480 -1.00105128 -1.00100768\n",
      "HQ(n)  -0.1379614 -0.1187036 -0.09255249 -0.07565456 -0.05455527 -0.04136588\n",
      "SC(n)   1.2469763  1.2866010  1.33311876  1.37038342  1.41184944  1.44540556\n",
      "FPE(n)  0.3662391  0.3689514  0.37426980  0.37618346  0.37971470  0.38027558\n",
      "                73          74          75          76          77          78\n",
      "AIC(n) -1.00865772 -0.99702832 -0.98302793 -0.98241983 -0.98070925 -0.97453764\n",
      "HQ(n)  -0.03587015 -0.01109497  0.01605119  0.02980507  0.04466144  0.06397882\n",
      "SC(n)   1.47126803  1.51640994  1.56392283  1.59804344  1.63326654  1.67295065\n",
      "FPE(n)  0.37793493  0.38293745  0.38894478  0.38980896  0.39112434  0.39421756\n",
      "                79          80          81         82         83         84\n",
      "AIC(n) -0.99383297 -0.99272994 -0.98556335 -0.9856855 -0.9784751 -0.9823403\n",
      "HQ(n)   0.05782927  0.07207807  0.09239045  0.1054141  0.1257703  0.1350508\n",
      "SC(n)   1.68716784  1.72178337  1.76246248  1.7958528  1.8365757  1.8662230\n",
      "FPE(n)  0.38736292  0.38849058  0.39201094  0.3927107  0.3963276  0.3955934\n",
      "               85         86         87         88         89         90\n",
      "AIC(n) -0.9990077 -0.9871448 -0.9838261 -0.9816675 -0.9909318 -0.9834707\n",
      "HQ(n)   0.1315292  0.1565379  0.1730023  0.1883067  0.1921883  0.2127951\n",
      "SC(n)   1.8830681  1.9284436  1.9652748  2.0009459  2.0251941  2.0661677\n",
      "FPE(n)  0.3898587  0.3953484  0.3975267  0.3992764  0.3965019  0.4004113\n",
      "               91         92         93         94         95         96\n",
      "AIC(n) -0.9828194 -1.0297111 -1.0314630 -1.0309532 -1.0233110 -1.0254029\n",
      "HQ(n)   0.2265922  0.1928463  0.2042401  0.2178957  0.2386837  0.2497375\n",
      "SC(n)   2.1003316  2.0869524  2.1187129  2.1527353  2.1938900  2.2253105\n",
      "FPE(n)  0.4016392  0.3841888  0.3844894  0.3856860  0.3896807  0.3899285\n",
      "               97         98         99        100        101        102\n",
      "AIC(n) -1.0137099 -1.0032019 -0.9940938 -0.9887311 -1.0010749 -1.0114476\n",
      "HQ(n)   0.2745763  0.2982301  0.3204840  0.3389924  0.3397945  0.3425675\n",
      "SC(n)   2.2705160  2.3145365  2.3571572  2.3960324  2.4172011  2.4403409\n",
      "FPE(n)  0.3956187  0.4009438  0.4058003  0.4092090  0.4054332  0.4025140\n",
      "              103        104        105        106        107        108\n",
      "AIC(n) -1.0024668 -1.0107187 -1.0190996 -1.0315447 -1.0296621 -1.0352180\n",
      "HQ(n)   0.3646941  0.3695880  0.3743528  0.3750535  0.3900819  0.3976718\n",
      "SC(n)   2.4828343  2.5080949  2.5332264  2.5542938  2.5896890  2.6176456\n",
      "FPE(n)  0.4074555  0.4054414  0.4034162  0.3998043  0.4019746  0.4011941\n",
      "              109        110        111        112        113        114\n",
      "AIC(n) -1.0692079 -1.0725947 -1.0602941 -1.0681266 -1.0716763 -1.0592740\n",
      "HQ(n)   0.3768277  0.3865867  0.4120330  0.4173463  0.4269424  0.4524905\n",
      "SC(n)   2.6171682  2.6472939  2.6931070  2.7187870  2.7487499  2.7946647\n",
      "FPE(n)  0.3892220  0.3893745  0.3957197  0.3941867  0.3943798  0.4009539\n",
      "              115        116        117        118        119        120\n",
      "AIC(n) -1.0588675 -1.0589667 -1.0477819 -1.0397736 -1.0494269 -1.0637695\n",
      "HQ(n)   0.4660427  0.4790893  0.5034199  0.5245740  0.5280664  0.5268697\n",
      "SC(n)   2.8285837  2.8619970  2.9066943  2.9482151  2.9720743  2.9912443\n",
      "FPE(n)  0.4028136  0.4045153  0.4108729  0.4160472  0.4139521  0.4099819\n",
      "\n"
     ]
    },
    {
     "data": {
      "image/png": "[encoded data removed]",
      "text/plain": [
       "Plot with title \"Forecast for mean and max consumption\""
      ]
     },
     "metadata": {
      "image/png": {
       "height": 420,
       "width": 420
      }
     },
     "output_type": "display_data"
    }
   ],
   "source": [
    "library(vars)\n",
    "\n",
    "ts_data <- ts(ts_data, start = c(1, 1), frequency = 1)\n",
    "\n",
    "# Using VARselect to choose the optimal p value\n",
    "var_select <- VARselect(ts_data, lag.max = 120, type = \"both\")\n",
    "#print(var_select)\n",
    "\n",
    "var_model <- VAR(ts_data, p = 32)\n",
    "var_forecast <- forecast(var_model, h = 30, level = 90)\n",
    "\n",
    "plot(var_forecast, main=\"Forecast for mean and max consumption\", xlim=c(200, 650))"
   ]
  },
  {
   "cell_type": "markdown",
   "id": "35300c74",
   "metadata": {},
   "source": [
    "Similarly to the previously fitted models, the forecast, for a 90% confidence level, produces a graph with min and max plausible values that diverge grately from the actual forecast. However this model manages to have some acceptable level of accuracy only when making predictions in the medium to short (around one month). "
   ]
  },
  {
   "cell_type": "code",
   "execution_count": 18,
   "id": "a0fc4f11",
   "metadata": {
    "message": false,
    "tags": [
     "remove_input"
    ],
    "vscode": {
     "languageId": "r"
    },
    "warning": false
   },
   "outputs": [],
   "source": [
    "#extracting CSV dataFrame for NN training in Python\n",
    "daily_dataset.tmp <- daily_dataset.filtered\n",
    "daily_dataset.tmp <- daily_dataset.tmp[daily_dataset.tmp$day >= \"2012-01-01\" & daily_dataset.tmp$day <= \"2014-02-27\",]\n",
    "daily_dataset.tmp <- daily_dataset.tmp %>%\n",
    "  mutate(\n",
    "    year = as.numeric(strftime(day, format = \"%Y\")),\n",
    "  )\n",
    "\n",
    "stdorToU_sorted <- aggregate(daily_dataset.filtered$consumption, by=list(stdorToU=daily_dataset.filtered$stdorToU), FUN=mean)\n",
    "stdorToU_sorted <- stdorToU_sorted[order(stdorToU_sorted$x), ]$stdorToU\n",
    "\n",
    "daily_dataset.tmp$weather_condition <- match(daily_dataset.tmp$weather_condition, weather_condition_sorted)\n",
    "daily_dataset.tmp$precipType <- match(daily_dataset.tmp$precipType, precipType_sorted)\n",
    "daily_dataset.tmp$stdorToU <- match(daily_dataset.tmp$stdorToU, stdorToU_sorted)\n",
    "\n",
    "write.csv(daily_dataset.tmp, file = \".\\\\archive\\\\final_dataset.csv\", row.names = FALSE)\n"
   ]
  }
 ],
 "metadata": {
  "jupytext": {
   "cell_metadata_filter": "fig.cap,warning,message,tags,fig.show,out.width,-all",
   "main_language": "R",
   "notebook_metadata_filter": "-all"
  },
  "kernelspec": {
   "display_name": "R",
   "language": "R",
   "name": "ir"
  },
  "language_info": {
   "codemirror_mode": "r",
   "file_extension": ".r",
   "mimetype": "text/x-r-source",
   "name": "R",
   "pygments_lexer": "r",
   "version": "4.2.2"
  }
 },
 "nbformat": 4,
 "nbformat_minor": 5
}
