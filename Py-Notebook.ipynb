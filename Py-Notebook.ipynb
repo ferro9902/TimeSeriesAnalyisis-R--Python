{
 "cells": [
  {
   "cell_type": "code",
   "execution_count": 1,
   "id": "6944c0af-2766-49b1-a8f3-4eaa4cc70393",
   "metadata": {},
   "outputs": [
    {
     "name": "stdout",
     "output_type": "stream",
     "text": [
      "Total number of lines imported: 3197965\n"
     ]
    }
   ],
   "source": [
    "import pandas as pd\n",
    "import csv\n",
    "\n",
    "file_path = './archive/final_dataset.csv'\n",
    "\n",
    "data = []\n",
    "\n",
    "# Open the CSV file and read it line by line\n",
    "with open(file_path, 'r') as file:\n",
    "    csv_reader = csv.reader(file)\n",
    "    \n",
    "    headers = next(csv_reader)\n",
    "    \n",
    "    # Iterate over the remaining rows\n",
    "    for row in csv_reader:\n",
    "        data.append(row)\n",
    "\n",
    "# Create a DataFrame from the list of rows\n",
    "df = pd.DataFrame(data, columns=headers)\n",
    "print(\"Total number of lines imported:\", len(df))\n"
   ]
  },
  {
   "cell_type": "code",
   "execution_count": null,
   "id": "dd944820-7794-4062-9d9f-fb442f36ed20",
   "metadata": {},
   "outputs": [],
   "source": []
  }
 ],
 "metadata": {
  "kernelspec": {
   "display_name": "Python 3 (ipykernel)",
   "language": "python",
   "name": "python3"
  },
  "language_info": {
   "codemirror_mode": {
    "name": "ipython",
    "version": 3
   },
   "file_extension": ".py",
   "mimetype": "text/x-python",
   "name": "python",
   "nbconvert_exporter": "python",
   "pygments_lexer": "ipython3",
   "version": "3.11.2"
  }
 },
 "nbformat": 4,
 "nbformat_minor": 5
}
